{
 "cells": [
  {
   "cell_type": "markdown",
   "metadata": {},
   "source": [
    "# Protein sequence alignment"
   ]
  },
  {
   "cell_type": "markdown",
   "metadata": {},
   "source": [
    "dynamic programming은 하나의 큰 계산이 작은 여러 계산으로 쪼갤 수 있는 경우,  \n",
    "그리고 작은 계산들 중 중복된 계산들이 있는 경우에 사용합니다.  \n",
    "예를 들자면 1!+ 2!+ 3! + 4! + 5! + 6! 이라는 문제를 분다고 생각해봅시다.   \n",
    "1 + 2*1 + 3*2*1 + 4*3*2*1 + 5*4*3*2*1+ 6*5*4*3*2*1 인데, 이 계산에는 중복된 부분들이 나타납니다.\n",
    "\n",
    "이 계산을 전부 다 해줄 필요 없이, 이전항의 결과를 메모리에 기록해두고, 항의 번호에 이전항의 결과를 곱해주기만 하면 됩니다."
   ]
  },
  {
   "cell_type": "code",
   "execution_count": 1,
   "metadata": {},
   "outputs": [
    {
     "name": "stdout",
     "output_type": "stream",
     "text": [
      "873\n"
     ]
    }
   ],
   "source": [
    "import numpy as np\n",
    "factorial = np.zeros(6, dtype=int)\n",
    "for i in range(0,6):\n",
    " if i==0:\n",
    "\n",
    "  factorial[i] = 1\n",
    "\n",
    " else:\n",
    "  factorial[i] = factorial[i-1]*(i+1)\n",
    "result = factorial.sum()\n",
    "\n",
    "print(result)"
   ]
  },
  {
   "cell_type": "markdown",
   "metadata": {},
   "source": [
    "## Bio 라이브러리를 통해 해보자!"
   ]
  },
  {
   "cell_type": "code",
   "execution_count": 1,
   "metadata": {},
   "outputs": [],
   "source": [
    "from Bio import Align"
   ]
  },
  {
   "cell_type": "code",
   "execution_count": 12,
   "metadata": {},
   "outputs": [
    {
     "name": "stdout",
     "output_type": "stream",
     "text": [
      "Score of Alignmnet : 3.0\n"
     ]
    }
   ],
   "source": [
    "aligner = Align.PairwiseAligner(match_score = 1.0)\n",
    "\n",
    "seq1 = \"GAACT\"\n",
    "seq2 = \"GAT\"\n",
    "\n",
    "score = aligner.score(seq1, seq2)\n",
    "\n",
    "print(f\"Score of Alignmnet : {score}\")"
   ]
  },
  {
   "cell_type": "code",
   "execution_count": 13,
   "metadata": {},
   "outputs": [
    {
     "name": "stdout",
     "output_type": "stream",
     "text": [
      "GAACT\n",
      "||--|\n",
      "GA--T\n",
      "\n",
      "GAACT\n",
      "|-|-|\n",
      "G-A-T\n",
      "\n"
     ]
    }
   ],
   "source": [
    "alignments = aligner.align(seq1, seq2)\n",
    "\n",
    "for alignment in alignments:\n",
    "    print(alignment)"
   ]
  },
  {
   "cell_type": "code",
   "execution_count": 14,
   "metadata": {},
   "outputs": [
    {
     "name": "stdout",
     "output_type": "stream",
     "text": [
      "The local alignment score is 5.0\n"
     ]
    }
   ],
   "source": [
    "aligner.mode = 'local'\n",
    "\n",
    "seq3 = \"AGAACTC\"\n",
    "seq4 = \"GAACT\"\n",
    "\n",
    "scoreLocal = aligner.score(seq3, seq4)\n",
    "\n",
    "print(f\"The local alignment score is {scoreLocal}\")"
   ]
  },
  {
   "cell_type": "code",
   "execution_count": 15,
   "metadata": {},
   "outputs": [
    {
     "name": "stdout",
     "output_type": "stream",
     "text": [
      "AGAACTC\n",
      " |||||\n",
      " GAACT\n",
      "\n"
     ]
    }
   ],
   "source": [
    "alignLocal  = aligner.align(seq3, seq4)\n",
    "\n",
    "for x in alignLocal:\n",
    "    print(x)"
   ]
  },
  {
   "cell_type": "markdown",
   "metadata": {},
   "source": [
    "# Cluster 그려보기!"
   ]
  },
  {
   "cell_type": "markdown",
   "metadata": {},
   "source": [
    "https://www.ebi.ac.uk/Tools/msa/muscle/\n",
    "\n",
    "서열 복사 붙여넣기해서 Submit 누름\n",
    "\n",
    "클러스터링 된 서열을 받아서     \n",
    "\n",
    "WEBLOGO 들어가서\n",
    "\n",
    "그리면됨...\n",
    "\n",
    "파이썬 내에서 하는건 나중에 해보자"
   ]
  },
  {
   "cell_type": "code",
   "execution_count": 25,
   "metadata": {},
   "outputs": [
    {
     "ename": "KeyError",
     "evalue": "'fasta'",
     "output_type": "error",
     "traceback": [
      "\u001b[0;31m---------------------------------------------------------------------------\u001b[0m",
      "\u001b[0;31mKeyError\u001b[0m                                  Traceback (most recent call last)",
      "Cell \u001b[0;32mIn [25], line 5\u001b[0m\n\u001b[1;32m      2\u001b[0m get_ipython()\u001b[39m.\u001b[39mrun_line_magic(\u001b[39m'\u001b[39m\u001b[39mmatplotlib\u001b[39m\u001b[39m'\u001b[39m, \u001b[39m'\u001b[39m\u001b[39minline\u001b[39m\u001b[39m'\u001b[39m)\n\u001b[1;32m      3\u001b[0m \u001b[39mfrom\u001b[39;00m \u001b[39mBio\u001b[39;00m \u001b[39mimport\u001b[39;00m Phylo\n\u001b[0;32m----> 5\u001b[0m tree \u001b[39m=\u001b[39m Phylo\u001b[39m.\u001b[39;49mread(\u001b[39m'\u001b[39;49m\u001b[39msequence1_weblogo.fasta\u001b[39;49m\u001b[39m'\u001b[39;49m, \u001b[39m'\u001b[39;49m\u001b[39mfasta\u001b[39;49m\u001b[39m'\u001b[39;49m)\n\u001b[1;32m      6\u001b[0m Phylo\u001b[39m.\u001b[39mdraw(tree)\n",
      "File \u001b[0;32m~/miniforge3/envs/bio/lib/python3.8/site-packages/Bio/Phylo/_io.py:60\u001b[0m, in \u001b[0;36mread\u001b[0;34m(file, format, **kwargs)\u001b[0m\n\u001b[1;32m     58\u001b[0m \u001b[39mtry\u001b[39;00m:\n\u001b[1;32m     59\u001b[0m     tree_gen \u001b[39m=\u001b[39m parse(file, \u001b[39mformat\u001b[39m, \u001b[39m*\u001b[39m\u001b[39m*\u001b[39mkwargs)\n\u001b[0;32m---> 60\u001b[0m     tree \u001b[39m=\u001b[39m \u001b[39mnext\u001b[39;49m(tree_gen)\n\u001b[1;32m     61\u001b[0m \u001b[39mexcept\u001b[39;00m \u001b[39mStopIteration\u001b[39;00m:\n\u001b[1;32m     62\u001b[0m     \u001b[39mraise\u001b[39;00m \u001b[39mValueError\u001b[39;00m(\u001b[39m\"\u001b[39m\u001b[39mThere are no trees in this file.\u001b[39m\u001b[39m\"\u001b[39m) \u001b[39mfrom\u001b[39;00m \u001b[39mNone\u001b[39m\n",
      "File \u001b[0;32m~/miniforge3/envs/bio/lib/python3.8/site-packages/Bio/Phylo/_io.py:49\u001b[0m, in \u001b[0;36mparse\u001b[0;34m(file, format, **kwargs)\u001b[0m\n\u001b[1;32m     34\u001b[0m \u001b[39m\"\"\"Parse a file iteratively, and yield each of the trees it contains.\u001b[39;00m\n\u001b[1;32m     35\u001b[0m \n\u001b[1;32m     36\u001b[0m \u001b[39mIf a file only contains one tree, this still returns an iterable object that\u001b[39;00m\n\u001b[0;32m   (...)\u001b[0m\n\u001b[1;32m     46\u001b[0m \n\u001b[1;32m     47\u001b[0m \u001b[39m\"\"\"\u001b[39;00m\n\u001b[1;32m     48\u001b[0m \u001b[39mwith\u001b[39;00m File\u001b[39m.\u001b[39mas_handle(file) \u001b[39mas\u001b[39;00m fp:\n\u001b[0;32m---> 49\u001b[0m     \u001b[39myield from\u001b[39;00m \u001b[39mgetattr\u001b[39m(supported_formats[\u001b[39mformat\u001b[39;49m], \u001b[39m\"\u001b[39m\u001b[39mparse\u001b[39m\u001b[39m\"\u001b[39m)(fp, \u001b[39m*\u001b[39m\u001b[39m*\u001b[39mkwargs)\n",
      "\u001b[0;31mKeyError\u001b[0m: 'fasta'"
     ]
    }
   ],
   "source": [
    "import matplotlib.pyplot as plt\n",
    "%matplotlib inline\n",
    "from Bio import Phylo\n",
    "\n",
    "tree = Phylo.read('sequence1_weblogo.fasta', 'fasta')\n",
    "Phylo.draw(tree)"
   ]
  },
  {
   "cell_type": "code",
   "execution_count": 29,
   "metadata": {},
   "outputs": [
    {
     "name": "stdout",
     "output_type": "stream",
     "text": [
      "Pubmed에 machine learning를 검색하면 총 100739개의 결과\n"
     ]
    }
   ],
   "source": [
    "# Entrez 데이터베이스 검색\n",
    "\n",
    "from Bio import Entrez\n",
    "\n",
    "Entrez.email = 'your@email.com'\n",
    "handle = Entrez.esearch(db='pubmed', term='machine learning')\n",
    "record = Entrez.read(handle)\n",
    "print('Pubmed에 machine learning를 검색하면 총 {}개의 결과'.format(record['Count']))"
   ]
  },
  {
   "cell_type": "code",
   "execution_count": null,
   "metadata": {},
   "outputs": [],
   "source": []
  }
 ],
 "metadata": {
  "kernelspec": {
   "display_name": "Python 3.8.13 ('bio')",
   "language": "python",
   "name": "python3"
  },
  "language_info": {
   "codemirror_mode": {
    "name": "ipython",
    "version": 3
   },
   "file_extension": ".py",
   "mimetype": "text/x-python",
   "name": "python",
   "nbconvert_exporter": "python",
   "pygments_lexer": "ipython3",
   "version": "3.8.13"
  },
  "orig_nbformat": 4,
  "vscode": {
   "interpreter": {
    "hash": "205a59ccd488fb3cd5eb7610557f7a1e9c7c68d97ba820ebbe005ad8d3ed82b3"
   }
  }
 },
 "nbformat": 4,
 "nbformat_minor": 2
}
