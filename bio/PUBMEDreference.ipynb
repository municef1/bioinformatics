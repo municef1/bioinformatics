{
 "cells": [
  {
   "cell_type": "markdown",
   "metadata": {},
   "source": [
    "# covid19 pubmed에서 검색해서 논문 abstract 받아오기"
   ]
  },
  {
   "cell_type": "code",
   "execution_count": null,
   "metadata": {},
   "outputs": [
    {
     "data": {
      "text/plain": [
       "{'Count': '292241', 'RetMax': '50', 'RetStart': '0', 'IdList': ['36280374', '36280346', '36280345', '36280338', '36280294', '36280289', '36280247', '36280233', '36280214', '36280200', '36280194', '36280155', '36280136', '36280116', '36280100', '36280088', '36280060', '36279985', '36279947', '36279944', '36279914', '36279901', '36279900', '36279895', '36279887', '36279861', '36279853', '36279832', '36279816', '36279793', '36279757', '36279727', '36279696', '36279695', '36279686', '36279685', '36279582', '36279566', '36279552', '36279531', '36279524', '36279523', '36279518', '36279491', '36279466', '36279353', '36279316', '36279292', '36279288', '36279287'], 'TranslationSet': [{'From': 'covid19', 'To': '\"covid-19\"[MeSH Terms] OR \"covid-19\"[All Fields] OR \"covid19\"[All Fields]'}], 'TranslationStack': [{'Term': '\"covid-19\"[MeSH Terms]', 'Field': 'MeSH Terms', 'Count': '191477', 'Explode': 'Y'}, {'Term': '\"covid-19\"[All Fields]', 'Field': 'All Fields', 'Count': '292356', 'Explode': 'N'}, 'OR', {'Term': '\"covid19\"[All Fields]', 'Field': 'All Fields', 'Count': '3471', 'Explode': 'N'}, 'OR', 'GROUP'], 'QueryTranslation': '\"covid-19\"[MeSH Terms] OR \"covid-19\"[All Fields] OR \"covid19\"[All Fields]'}"
      ]
     },
     "metadata": {},
     "output_type": "display_data"
    }
   ],
   "source": [
    "from Bio import Entrez\n",
    "Entrez.email = \"esemoon@gmail.com\"\n",
    "\n",
    "handle = Entrez.esearch(db = \"pubmed\", term = \"covid19\", retmode = \"xml\", retmax = 50)\n",
    "result = Entrez.read(handle)\n",
    "result"
   ]
  },
  {
   "cell_type": "code",
   "execution_count": null,
   "metadata": {},
   "outputs": [
    {
     "name": "stdout",
     "output_type": "stream",
     "text": [
      "36280346\n"
     ]
    }
   ],
   "source": [
    "pmid = result['IdList'][1]\n",
    "print(pmid)"
   ]
  },
  {
   "cell_type": "code",
   "execution_count": null,
   "metadata": {},
   "outputs": [
    {
     "name": "stdout",
     "output_type": "stream",
     "text": [
      "{'PubmedArticle': [{'MedlineCitation': DictElement({'KeywordList': [ListElement([StringElement('COVID-19', attributes={'MajorTopicYN': 'N'}), StringElement('epidemiology', attributes={'MajorTopicYN': 'N'})], attributes={'Owner': 'NOTNLM'})], 'CitationSubset': ['IM'], 'OtherID': [], 'GeneralNote': [], 'OtherAbstract': [], 'SpaceFlightMission': [], 'PMID': StringElement('36280346', attributes={'Version': '1'}), 'DateRevised': {'Year': '2022', 'Month': '10', 'Day': '24'}, 'Article': DictElement({'ELocationID': [StringElement('heartjnl-2022-321492', attributes={'EIdType': 'pii', 'ValidYN': 'Y'}), StringElement('10.1136/heartjnl-2022-321492', attributes={'EIdType': 'doi', 'ValidYN': 'Y'})], 'ArticleDate': [DictElement({'Year': '2022', 'Month': '10', 'Day': '24'}, attributes={'DateType': 'Electronic'})], 'Language': ['eng'], 'Journal': {'ISSN': StringElement('1468-201X', attributes={'IssnType': 'Electronic'}), 'JournalIssue': DictElement({'PubDate': {'Year': '2022', 'Month': 'Oct', 'Day': '24'}}, attributes={'CitedMedium': 'Internet'}), 'Title': 'Heart (British Cardiac Society)', 'ISOAbbreviation': 'Heart'}, 'ArticleTitle': 'Cardiovascular disease and mortality sequelae of COVID-19 in the UK Biobank.', 'Abstract': {'AbstractText': [StringElement('To examine association of COVID-19 with incident cardiovascular events in 17\\u2009871 UK Biobank cases between March 2020 and 2021.', attributes={'Label': 'OBJECTIVE', 'NlmCategory': 'OBJECTIVE'}), StringElement('COVID-19 cases were defined using health record linkage. Each case was propensity score-matched to two uninfected controls on age, sex, deprivation, body mass index, ethnicity, diabetes, prevalent ischaemic heart disease (IHD), smoking, hypertension and high cholesterol. We included the following incident outcomes: myocardial infarction, stroke, heart failure, atrial fibrillation, venous thromboembolism (VTE), pericarditis, all-cause death, cardiovascular death, IHD death. Cox proportional hazards regression was used to estimate associations of COVID-19 with each outcome over an average of 141 days (range 32-395) of prospective follow-up.', attributes={'Label': 'METHODS', 'NlmCategory': 'METHODS'}), StringElement('Non-hospitalised cases (n=14\\u2009304) had increased risk of incident VTE (HR 2.74 (95% CI 1.38 to 5.45), p=0.004) and death (HR 10.23 (95% CI 7.63 to 13.70), p<0.0001). Individuals with primary COVID-19 hospitalisation (n=2701) had increased risk of all outcomes considered. The largest effect sizes were with VTE (HR 27.6 (95% CI 14.5 to 52.3); p<0.0001), heart failure (HR 21.6 (95% CI 10.9 to 42.9); p<0.0001) and stroke (HR 17.5 (95% CI 5.26 to 57.9); p<0.0001). Those hospitalised with COVID-19 as a secondary diagnosis (n=866) had similarly increased cardiovascular risk. The associated risks were greatest in the first 30 days after infection but remained higher than controls even after this period.', attributes={'Label': 'RESULTS', 'NlmCategory': 'RESULTS'}), StringElement('Individuals hospitalised with COVID-19 have increased risk of incident cardiovascular events across a range of disease and mortality outcomes. The risk of most events is highest in the early postinfection period. Individuals not requiring hospitalisation have increased risk of VTE, but not of other cardiovascular-specific outcomes.', attributes={'Label': 'CONCLUSIONS', 'NlmCategory': 'CONCLUSIONS'})], 'CopyrightInformation': '© Author(s) (or their employer(s)) 2022. Re-use permitted under CC BY. Published by BMJ.'}, 'AuthorList': ListElement([DictElement({'Identifier': [StringElement('http://orcid.org/0000-0002-7757-5465', attributes={'Source': 'ORCID'})], 'AffiliationInfo': [{'Identifier': [], 'Affiliation': 'William Harvey Research Institute, NIHR Barts Biomedical Research Centre, Queen Mary University of London, London, UK zahraraisi@doctors.org.uk.'}, {'Identifier': [], 'Affiliation': \"Barts Heart Centre, St Bartholomew's Hospital, Barts Health NHS Trust, London, UK.\"}], 'LastName': 'Raisi-Estabragh', 'ForeName': 'Zahra', 'Initials': 'Z'}, attributes={'ValidYN': 'Y'}), DictElement({'Identifier': [], 'AffiliationInfo': [{'Identifier': [], 'Affiliation': 'William Harvey Research Institute, NIHR Barts Biomedical Research Centre, Queen Mary University of London, London, UK.'}], 'LastName': 'Cooper', 'ForeName': 'Jackie', 'Initials': 'J'}, attributes={'ValidYN': 'Y'}), DictElement({'Identifier': [], 'AffiliationInfo': [{'Identifier': [], 'Affiliation': 'William Harvey Research Institute, NIHR Barts Biomedical Research Centre, Queen Mary University of London, London, UK.'}], 'LastName': 'Salih', 'ForeName': 'Ahmed', 'Initials': 'A'}, attributes={'ValidYN': 'Y'}), DictElement({'Identifier': [], 'AffiliationInfo': [{'Identifier': [], 'Affiliation': 'Division of Cardiovascular Medicine, Radcliffe Department of Medicine, National Institute for Health Research Oxford Biomedical Research Centre, University of Oxford, Oxford, UK.'}], 'LastName': 'Raman', 'ForeName': 'Betty', 'Initials': 'B'}, attributes={'ValidYN': 'Y'}), DictElement({'Identifier': [], 'AffiliationInfo': [{'Identifier': [], 'Affiliation': 'William Harvey Research Institute, NIHR Barts Biomedical Research Centre, Queen Mary University of London, London, UK.'}], 'LastName': 'Lee', 'ForeName': 'Aaron Mark', 'Initials': 'AM'}, attributes={'ValidYN': 'Y'}), DictElement({'Identifier': [], 'AffiliationInfo': [{'Identifier': [], 'Affiliation': 'Division of Cardiovascular Medicine, Radcliffe Department of Medicine, National Institute for Health Research Oxford Biomedical Research Centre, University of Oxford, Oxford, UK.'}], 'LastName': 'Neubauer', 'ForeName': 'Stefan', 'Initials': 'S'}, attributes={'ValidYN': 'Y'}), DictElement({'Identifier': [], 'AffiliationInfo': [{'Identifier': [], 'Affiliation': 'MRC Lifecourse Epidemiology Centre, University of Southampton, Southampton, UK.'}, {'Identifier': [], 'Affiliation': 'NIHR Southampton Biomedical Research Centre, University of Southampton and University Hospital Southampton NHS Foundation Trust, Southampton, UK.'}], 'LastName': 'Harvey', 'ForeName': 'Nicholas C', 'Initials': 'NC'}, attributes={'ValidYN': 'Y'}), DictElement({'Identifier': [StringElement('http://orcid.org/0000-0003-4622-5160', attributes={'Source': 'ORCID'})], 'AffiliationInfo': [{'Identifier': [], 'Affiliation': 'William Harvey Research Institute, NIHR Barts Biomedical Research Centre, Queen Mary University of London, London, UK.'}, {'Identifier': [], 'Affiliation': \"Barts Heart Centre, St Bartholomew's Hospital, Barts Health NHS Trust, London, UK.\"}, {'Identifier': [], 'Affiliation': 'Health Data Research UK, London, UK.'}, {'Identifier': [], 'Affiliation': 'Alan Turing Institute, London, UK.'}], 'LastName': 'Petersen', 'ForeName': 'Steffen E', 'Initials': 'SE'}, attributes={'ValidYN': 'Y'})], attributes={'CompleteYN': 'Y'}), 'PublicationTypeList': [StringElement('Journal Article', attributes={'UI': 'D016428'})]}, attributes={'PubModel': 'Print-Electronic'}), 'MedlineJournalInfo': {'Country': 'England', 'MedlineTA': 'Heart', 'NlmUniqueID': '9602087', 'ISSNLinking': '1355-6037'}, 'CoiStatement': 'Competing interests: SEP provides consultancy to Cardiovascular Imaging, Calgary, Alberta, Canada. BR has consulted for Axcella Therapeutics. The remaining authors have nothing to disclose.'}, attributes={'Status': 'Publisher', 'Owner': 'NLM'}), 'PubmedData': {'ReferenceList': [], 'History': [DictElement({'Year': '2022', 'Month': '06', 'Day': '07'}, attributes={'PubStatus': 'received'}), DictElement({'Year': '2022', 'Month': '08', 'Day': '08'}, attributes={'PubStatus': 'accepted'}), DictElement({'Year': '2022', 'Month': '10', 'Day': '24', 'Hour': '21', 'Minute': '4'}, attributes={'PubStatus': 'entrez'}), DictElement({'Year': '2022', 'Month': '10', 'Day': '25', 'Hour': '6', 'Minute': '0'}, attributes={'PubStatus': 'pubmed'}), DictElement({'Year': '2022', 'Month': '10', 'Day': '25', 'Hour': '6', 'Minute': '0'}, attributes={'PubStatus': 'medline'})], 'PublicationStatus': 'aheadofprint', 'ArticleIdList': [StringElement('36280346', attributes={'IdType': 'pubmed'}), StringElement('heartjnl-2022-321492', attributes={'IdType': 'pii'}), StringElement('10.1136/heartjnl-2022-321492', attributes={'IdType': 'doi'})]}}], 'PubmedBookArticle': []}\n"
     ]
    }
   ],
   "source": [
    "# pmid 잡은걸 id로 보내줌!\n",
    "pubmed_entry = Entrez.efetch(db = \"pubmed\", id = pmid, retmode = 'xml')\n",
    "read_result = Entrez.read(pubmed_entry)\n",
    "print(read_result)"
   ]
  },
  {
   "cell_type": "code",
   "execution_count": null,
   "metadata": {},
   "outputs": [
    {
     "name": "stdout",
     "output_type": "stream",
     "text": [
      "DictElement({'ELocationID': [StringElement('heartjnl-2022-321492', attributes={'EIdType': 'pii', 'ValidYN': 'Y'}), StringElement('10.1136/heartjnl-2022-321492', attributes={'EIdType': 'doi', 'ValidYN': 'Y'})], 'ArticleDate': [DictElement({'Year': '2022', 'Month': '10', 'Day': '24'}, attributes={'DateType': 'Electronic'})], 'Language': ['eng'], 'Journal': {'ISSN': StringElement('1468-201X', attributes={'IssnType': 'Electronic'}), 'JournalIssue': DictElement({'PubDate': {'Year': '2022', 'Month': 'Oct', 'Day': '24'}}, attributes={'CitedMedium': 'Internet'}), 'Title': 'Heart (British Cardiac Society)', 'ISOAbbreviation': 'Heart'}, 'ArticleTitle': 'Cardiovascular disease and mortality sequelae of COVID-19 in the UK Biobank.', 'Abstract': {'AbstractText': [StringElement('To examine association of COVID-19 with incident cardiovascular events in 17\\u2009871 UK Biobank cases between March 2020 and 2021.', attributes={'Label': 'OBJECTIVE', 'NlmCategory': 'OBJECTIVE'}), StringElement('COVID-19 cases were defined using health record linkage. Each case was propensity score-matched to two uninfected controls on age, sex, deprivation, body mass index, ethnicity, diabetes, prevalent ischaemic heart disease (IHD), smoking, hypertension and high cholesterol. We included the following incident outcomes: myocardial infarction, stroke, heart failure, atrial fibrillation, venous thromboembolism (VTE), pericarditis, all-cause death, cardiovascular death, IHD death. Cox proportional hazards regression was used to estimate associations of COVID-19 with each outcome over an average of 141 days (range 32-395) of prospective follow-up.', attributes={'Label': 'METHODS', 'NlmCategory': 'METHODS'}), StringElement('Non-hospitalised cases (n=14\\u2009304) had increased risk of incident VTE (HR 2.74 (95% CI 1.38 to 5.45), p=0.004) and death (HR 10.23 (95% CI 7.63 to 13.70), p<0.0001). Individuals with primary COVID-19 hospitalisation (n=2701) had increased risk of all outcomes considered. The largest effect sizes were with VTE (HR 27.6 (95% CI 14.5 to 52.3); p<0.0001), heart failure (HR 21.6 (95% CI 10.9 to 42.9); p<0.0001) and stroke (HR 17.5 (95% CI 5.26 to 57.9); p<0.0001). Those hospitalised with COVID-19 as a secondary diagnosis (n=866) had similarly increased cardiovascular risk. The associated risks were greatest in the first 30 days after infection but remained higher than controls even after this period.', attributes={'Label': 'RESULTS', 'NlmCategory': 'RESULTS'}), StringElement('Individuals hospitalised with COVID-19 have increased risk of incident cardiovascular events across a range of disease and mortality outcomes. The risk of most events is highest in the early postinfection period. Individuals not requiring hospitalisation have increased risk of VTE, but not of other cardiovascular-specific outcomes.', attributes={'Label': 'CONCLUSIONS', 'NlmCategory': 'CONCLUSIONS'})], 'CopyrightInformation': '© Author(s) (or their employer(s)) 2022. Re-use permitted under CC BY. Published by BMJ.'}, 'AuthorList': ListElement([DictElement({'Identifier': [StringElement('http://orcid.org/0000-0002-7757-5465', attributes={'Source': 'ORCID'})], 'AffiliationInfo': [{'Identifier': [], 'Affiliation': 'William Harvey Research Institute, NIHR Barts Biomedical Research Centre, Queen Mary University of London, London, UK zahraraisi@doctors.org.uk.'}, {'Identifier': [], 'Affiliation': \"Barts Heart Centre, St Bartholomew's Hospital, Barts Health NHS Trust, London, UK.\"}], 'LastName': 'Raisi-Estabragh', 'ForeName': 'Zahra', 'Initials': 'Z'}, attributes={'ValidYN': 'Y'}), DictElement({'Identifier': [], 'AffiliationInfo': [{'Identifier': [], 'Affiliation': 'William Harvey Research Institute, NIHR Barts Biomedical Research Centre, Queen Mary University of London, London, UK.'}], 'LastName': 'Cooper', 'ForeName': 'Jackie', 'Initials': 'J'}, attributes={'ValidYN': 'Y'}), DictElement({'Identifier': [], 'AffiliationInfo': [{'Identifier': [], 'Affiliation': 'William Harvey Research Institute, NIHR Barts Biomedical Research Centre, Queen Mary University of London, London, UK.'}], 'LastName': 'Salih', 'ForeName': 'Ahmed', 'Initials': 'A'}, attributes={'ValidYN': 'Y'}), DictElement({'Identifier': [], 'AffiliationInfo': [{'Identifier': [], 'Affiliation': 'Division of Cardiovascular Medicine, Radcliffe Department of Medicine, National Institute for Health Research Oxford Biomedical Research Centre, University of Oxford, Oxford, UK.'}], 'LastName': 'Raman', 'ForeName': 'Betty', 'Initials': 'B'}, attributes={'ValidYN': 'Y'}), DictElement({'Identifier': [], 'AffiliationInfo': [{'Identifier': [], 'Affiliation': 'William Harvey Research Institute, NIHR Barts Biomedical Research Centre, Queen Mary University of London, London, UK.'}], 'LastName': 'Lee', 'ForeName': 'Aaron Mark', 'Initials': 'AM'}, attributes={'ValidYN': 'Y'}), DictElement({'Identifier': [], 'AffiliationInfo': [{'Identifier': [], 'Affiliation': 'Division of Cardiovascular Medicine, Radcliffe Department of Medicine, National Institute for Health Research Oxford Biomedical Research Centre, University of Oxford, Oxford, UK.'}], 'LastName': 'Neubauer', 'ForeName': 'Stefan', 'Initials': 'S'}, attributes={'ValidYN': 'Y'}), DictElement({'Identifier': [], 'AffiliationInfo': [{'Identifier': [], 'Affiliation': 'MRC Lifecourse Epidemiology Centre, University of Southampton, Southampton, UK.'}, {'Identifier': [], 'Affiliation': 'NIHR Southampton Biomedical Research Centre, University of Southampton and University Hospital Southampton NHS Foundation Trust, Southampton, UK.'}], 'LastName': 'Harvey', 'ForeName': 'Nicholas C', 'Initials': 'NC'}, attributes={'ValidYN': 'Y'}), DictElement({'Identifier': [StringElement('http://orcid.org/0000-0003-4622-5160', attributes={'Source': 'ORCID'})], 'AffiliationInfo': [{'Identifier': [], 'Affiliation': 'William Harvey Research Institute, NIHR Barts Biomedical Research Centre, Queen Mary University of London, London, UK.'}, {'Identifier': [], 'Affiliation': \"Barts Heart Centre, St Bartholomew's Hospital, Barts Health NHS Trust, London, UK.\"}, {'Identifier': [], 'Affiliation': 'Health Data Research UK, London, UK.'}, {'Identifier': [], 'Affiliation': 'Alan Turing Institute, London, UK.'}], 'LastName': 'Petersen', 'ForeName': 'Steffen E', 'Initials': 'SE'}, attributes={'ValidYN': 'Y'})], attributes={'CompleteYN': 'Y'}), 'PublicationTypeList': [StringElement('Journal Article', attributes={'UI': 'D016428'})]}, attributes={'PubModel': 'Print-Electronic'})\n"
     ]
    }
   ],
   "source": [
    "article = read_result['PubmedArticle'][0]['MedlineCitation']['Article']\n",
    "print(article)"
   ]
  },
  {
   "cell_type": "code",
   "execution_count": null,
   "metadata": {},
   "outputs": [
    {
     "name": "stdout",
     "output_type": "stream",
     "text": [
      "To examine association of COVID-19 with incident cardiovascular events in 17 871 UK Biobank cases between March 2020 and 2021.\n"
     ]
    }
   ],
   "source": [
    "print(article['Abstract']['AbstractText'][0])"
   ]
  },
  {
   "cell_type": "code",
   "execution_count": null,
   "metadata": {},
   "outputs": [
    {
     "name": "stdout",
     "output_type": "stream",
     "text": [
      "[StringElement('To examine association of COVID-19 with incident cardiovascular events in 17\\u2009871 UK Biobank cases between March 2020 and 2021.', attributes={'Label': 'OBJECTIVE', 'NlmCategory': 'OBJECTIVE'}), StringElement('COVID-19 cases were defined using health record linkage. Each case was propensity score-matched to two uninfected controls on age, sex, deprivation, body mass index, ethnicity, diabetes, prevalent ischaemic heart disease (IHD), smoking, hypertension and high cholesterol. We included the following incident outcomes: myocardial infarction, stroke, heart failure, atrial fibrillation, venous thromboembolism (VTE), pericarditis, all-cause death, cardiovascular death, IHD death. Cox proportional hazards regression was used to estimate associations of COVID-19 with each outcome over an average of 141 days (range 32-395) of prospective follow-up.', attributes={'Label': 'METHODS', 'NlmCategory': 'METHODS'}), StringElement('Non-hospitalised cases (n=14\\u2009304) had increased risk of incident VTE (HR 2.74 (95% CI 1.38 to 5.45), p=0.004) and death (HR 10.23 (95% CI 7.63 to 13.70), p<0.0001). Individuals with primary COVID-19 hospitalisation (n=2701) had increased risk of all outcomes considered. The largest effect sizes were with VTE (HR 27.6 (95% CI 14.5 to 52.3); p<0.0001), heart failure (HR 21.6 (95% CI 10.9 to 42.9); p<0.0001) and stroke (HR 17.5 (95% CI 5.26 to 57.9); p<0.0001). Those hospitalised with COVID-19 as a secondary diagnosis (n=866) had similarly increased cardiovascular risk. The associated risks were greatest in the first 30 days after infection but remained higher than controls even after this period.', attributes={'Label': 'RESULTS', 'NlmCategory': 'RESULTS'}), StringElement('Individuals hospitalised with COVID-19 have increased risk of incident cardiovascular events across a range of disease and mortality outcomes. The risk of most events is highest in the early postinfection period. Individuals not requiring hospitalisation have increased risk of VTE, but not of other cardiovascular-specific outcomes.', attributes={'Label': 'CONCLUSIONS', 'NlmCategory': 'CONCLUSIONS'})]\n"
     ]
    }
   ],
   "source": [
    "print(article['Abstract']['AbstractText'])"
   ]
  },
  {
   "cell_type": "markdown",
   "metadata": {},
   "source": [
    "# 전체 코드!"
   ]
  },
  {
   "cell_type": "code",
   "execution_count": null,
   "metadata": {},
   "outputs": [
    {
     "name": "stdout",
     "output_type": "stream",
     "text": [
      "------------------------------\n",
      "pmid:  36280346\n",
      "title:  Heart (British Cardiac Society)\n",
      "data:  {'Year': '2022', 'Month': 'Oct', 'Day': '24'}\n",
      "abstract:  To examine association of COVID-19 with incident cardiovascular events in 17 871 UK Biobank cases between March 2020 and 2021.\n",
      "\n",
      "------------------------------\n",
      "pmid:  36280338\n",
      "title:  The Medical clinics of North America\n",
      "data:  {'Year': '2022', 'Month': 'Nov'}\n",
      "abstract:  In late 2019, SARS-CoV-2 caused the greatest global health crisis in a century, impacting all aspects of society. As the COVID-19 pandemic evolved throughout 2020 and 2021, multiple variants emerged, contributing to multiple surges in cases of COVID-19 worldwide. In 2021, highly effective vaccines became available, although the pandemic continues into 2022. There has been tremendous expansion of basic, translational, and clinical knowledge about SARS-CoV-2 and COVID-19 since the pandemic's onset. Treatment options have been rapidly explored, attempting to repurpose preexisting medications in tandem with development and evaluation of novel agents. Care of the seriously ill patient is examined.\n",
      "\n",
      "------------------------------\n",
      "pmid:  36280294\n",
      "title:  The Nursing clinics of North America\n",
      "data:  {'Year': '2022', 'Month': 'Dec'}\n",
      "abstract:  Despite the unprecedented obstacles created by the COVID-19 pandemic, nursing professional development practitioners and nurse educators successfully harnessed educational technology to disseminate an extraordinary amount of vital information needed to provide care to a society in crisis. The agile adoption of educational technology allowed rapid access and dissemination of information that carried institutions through the uncharted waters of the pandemic and created a roadmap for mass education techniques to guide not only future disaster preparedness and crisis intervention but also application of nursing education in all arenas.\n",
      "\n",
      "------------------------------\n",
      "pmid:  36280289\n",
      "title:  British journal of sports medicine\n",
      "data:  {'Year': '2022', 'Month': 'Oct', 'Day': '24'}\n",
      "abstract:  Both vaccination and physical activity have been shown to independently decrease the likelihood of severe COVID-19 infection.\n",
      "\n",
      "------------------------------\n",
      "pmid:  36280247\n",
      "title:  CMAJ open\n",
      "data:  {'MedlineDate': '2022 Oct-Dec'}\n",
      "abstract:  Maximizing uptake of SARS-CoV-2 vaccines among people in prison is essential in mitigating future outbreaks. We aimed to determine factors associated with willingness to receive SARS-CoV-2 vaccination before vaccine availability.\n",
      "\n",
      "------------------------------\n",
      "pmid:  36280233\n",
      "title:  Journal of physical activity & health\n",
      "data:  {'Year': '2022', 'Month': 'Oct', 'Day': '24'}\n",
      "abstract:  The Global Matrix 4.0 on physical activity (PA) for children and adolescents was developed to achieve a comprehensive understanding of the global variation in children's and adolescents' (5-17 y) PA, related measures, and key sources of influence. The objectives of this article were (1) to summarize the findings from the Global Matrix 4.0 Report Cards, (2) to compare indicators across countries, and (3) to explore trends related to the Human Development Index and geo-cultural regions.\n",
      "\n",
      "------------------------------\n",
      "pmid:  36280214\n",
      "title:  Resuscitation\n",
      "data:  {'Year': '2022', 'Month': 'Oct', 'Day': '21'}\n",
      "abstract:  Fewer out-of-hospital cardiac arrest (OHCA) patients received bystander cardiopulmonary resuscitation during the COVID-19 pandemic in Singapore. We investigated the impact of COVID-19 on barriers to dispatcher-assisted cardiopulmonary resuscitation (DA-CPR).\n",
      "\n",
      "------------------------------\n",
      "pmid:  36280200\n",
      "title:  Journal of affective disorders\n",
      "data:  {'Year': '2022', 'Month': 'Oct', 'Day': '21'}\n",
      "abstract:  Evidence on the relationship between burnout and post-traumatic stress disorder (PTSD) is limited. We aimed to evaluate the association between burnout and PTSD symptoms among medical staff two years after the coronavirus disease 2019 (COVID-19) pandemic in Wuhan, China, and explore the mediating roles of social support and psychological resilience.\n",
      "\n",
      "------------------------------\n",
      "pmid:  36280194\n",
      "title:  Journal of vascular surgery\n",
      "data:  {'Year': '2022', 'Month': 'Oct', 'Day': '21'}\n",
      "abstract:  Hospital resource utilization is under constant review and the extent and intensity of postoperative care requirements for vascular surgical procedures is particularly relevant in the setting of the COVID19 pandemic and its impact on staffed ICU beds. We sought to evaluate the feasibility of regional anesthesia and low-intensity postoperative care for patients undergoing transcarotid artery revascularization (TCAR) at our institution.\n",
      "\n",
      "------------------------------\n",
      "pmid:  36280155\n",
      "title:  Biochimica et biophysica acta. Molecular basis of disease\n",
      "data:  {'Year': '2022', 'Month': 'Oct', 'Day': '21'}\n",
      "abstract:  Since the outbreak of coronavirus disease 2019 (COVID-19), biomarkers for evaluating severity, as well as supportive care to improve clinical course, remain insufficient. We explored the potential of d-amino acids, rare enantiomers of amino acids, as biomarkers for assessing disease severity and as protective nutrients against severe viral infections. In mice infected with influenza A virus (IAV) and in patients with severe COVID-19 requiring artificial ventilation or extracorporeal membrane oxygenation, blood levels of d-amino acids, including d-alanine, were reduced significantly compared with those of uninfected mice or healthy controls. In mice models of IAV infection or COVID-19, supplementation with d-alanine alleviated severity of clinical course, and mice with sustained blood levels of d-alanine showed favorable prognoses. In severe viral infections, blood levels of d-amino acids, including d-alanine, decrease, and supplementation with d-alanine improves prognosis. d-Alanine has great potentials as a biomarker and a therapeutic option for severe viral infections.\n",
      "\n",
      "------------------------------\n",
      "pmid:  36280136\n",
      "title:  The journal of allergy and clinical immunology. In practice\n",
      "data:  {'Year': '2022', 'Month': 'Oct', 'Day': '21'}\n",
      "abstract:  The contemporaneous presence of immune-defects and heart diseases in patients with 22q11.2 deletion syndrome might represent risk factors for severe COVID-19.\n",
      "\n",
      "------------------------------\n",
      "pmid:  36280116\n",
      "title:  Chemosphere\n",
      "data:  {'Year': '2022', 'Month': 'Oct', 'Day': '21'}\n",
      "abstract:  Energy crisis and increasing rigorous management standards pose significant challenges for solid waste management worldwide. Several emerging diseases such as COVID-19 aggravated the already complex solid waste management crisis, especially sewage sludge and food waste streams, because of the increasingly large production year by year. As mature waste disposal technologies, landfills, incineration, composting, and some other methods are widespread for solid wastes management. This paper reviews recent advances in key sewage sludge disposal technologies. These include incineration, anaerobic digestion, and valuable products oriented-conversion. Food waste disposal technologies comprised of thermal treatment, fermentation, value-added product conversion, and composting have also been described. The hot topic and dominant research foci of each area are summarized, simultaneously compared with conventional technologies in terms of organic matter degradation or conversion performance, energy generation, and renewable resources production. Future perspectives of each technology that include issues not well understood and predicted challenges are discussed with a positive effect on the full-scale implementation of the discussed disposal methods.\n",
      "\n",
      "------------------------------\n",
      "pmid:  36280100\n",
      "title:  Annals of allergy, asthma & immunology : official publication of the American College of Allergy, Asthma, & Immunology\n",
      "data:  {'Year': '2022', 'Month': 'Oct', 'Day': '21'}\n",
      "abstract:  Coronavirus disease 2019 (COVID-19) caused by the severe acute respiratory syndrome coronavirus 2 (SARS-CoV-2) can progress into a severe form of acute lung injury. The co-signaling receptor CD48 exists in membrane-bound (mCD48) and soluble (sCD48) forms and has been reported to be implicated in antiviral immunity and dysregulated in several inflammatory conditions. Therefore, CD48 dysregulation may be a putative feature in COVID-19-associated inflammation that deserves consideration.\n",
      "\n",
      "------------------------------\n",
      "pmid:  36280088\n",
      "title:  Infection, genetics and evolution : journal of molecular epidemiology and evolutionary genetics in infectious diseases\n",
      "data:  {'Year': '2022', 'Month': 'Oct', 'Day': '21'}\n",
      "abstract:  Genome-wide association studies (GWASs) are a research approach used to identify genetic variants associated with common diseases, like COVID-19. The lead genetic variants (n = 41) reported by the eleven largest COVID-19 GWASs are mapped to 22 different chromosomal regions. The loci 3q21.31 (LZTFL1 and chemokine receptor genes) and 9q34.2 (ABO), associated with disease severity and susceptibility to infection, respectively, were the most replicated findings across studies. Genes involved with mucociliary clearance (CEP97, FOXP4), viral-entry (ACE2, SLC6A20) and mucosal immunity (MIR6891) are associated with the risk of SARS-CoV-2 infection while genes of antiviral immune response (IFNAR2, OAS1), leukocyte trafficking (CCR9, CXCR6) and lung injury (DPP9, NOTCH4) are associated with severe disease. The biological processes underlying the risk of infection occur prominently, but not exclusively, in the upper airways whereas the severe COVID-19-associated processes in alveolar-capillary interface. The COVID-19 GWASs has unraveled key genetic mechanisms of SARS-CoV-2 pathogenesis, although the genetic basis of other COVID-19 related phenotypes (long COVID and neurological impairment) remains to be elucidated.\n",
      "\n",
      "------------------------------\n",
      "pmid:  36280060\n",
      "title:  The Science of the total environment\n",
      "data:  {'Year': '2022', 'Month': 'Oct', 'Day': '21'}\n",
      "abstract:  The aim of this study was to establish whether SARS-CoV-2 genetic material is detectable after municipal wastewater treatment and to verify its expected removal from purified water that is reclaimed for potable reuse. Viral loads of SARS-CoV-2 (N1 and N2 genes) were monitored in raw influent wastewater (sewage) entering a water reclamation facility and in subsequent advanced treatment. Despite the large viral RNA load in raw sewage during peak COVID-19 outbreaks, substantial amounts of SARS-CoV-2 genetic material were removed during the conventional wastewater treatment process. Further, SARS-CoV-2 genetic material was undetectable after advanced purification. This confirms that potable reuse is resilient against high viral loads which are expected given the advanced degree of wastewater and water treatment. Findings from this study may enhance public perception of the safety of potable water reuse; however, it should also be noted that studies to date worldwide indicate no evidence of SARS-CoV-2 transmission via water, and the CDC does not consider fecal waste or wastewaters as a source of exposure.\n",
      "\n",
      "------------------------------\n",
      "pmid:  36279985\n",
      "title:  Peptides\n",
      "data:  {'Year': '2022', 'Month': 'Oct', 'Day': '21'}\n",
      "abstract:  In humans, coronaviruses are the cause of endemic illness and have been the causative agents of more severe epidemics. Most recently, SARS-CoV-2 was the causative agent of the COVID19 pandemic. Thus, there is a high interest in developing therapeutic agents targeting various stages of the coronavirus viral life cycle to disrupt viral propagation. Besides the development of small-molecule therapeutics that target viral proteases, there is also interest molecular tools to inhibit the initial event of viral attachment of the SARS-CoV-2 Spike protein to host ACE2 surface receptor. Here, we leveraged known structural information and peptide arrays to develop an in vitro peptide inhibitor of the Spike-ACE2 interaction. First, from previous co-crystal structures of the Spike-ACE2 complex, we identified an initial 24-residue long region (sequence: STIEEQAKTFLDKFNHEAEDLFYQ) on the ACE2 sequence that encompasses most of the known contact residues. Next, we scanned this 24-mer window along the ACE2 N-terminal helix and found that maximal binding to the SARS-CoV-2 receptor binding domain (CoV2-RBD) was increased when this window was shifted nine residues in the N-terminal direction. Further, by systematic permutation of this shifted ACE2-derived peptide we identified mutations to the wildtype sequence that confer increased binding of the CoV2-RBD. Among these peptides, we identified binding peptide 19 (referred to as BP19; sequence: SLVAVTAAQSTIEEQAKTFLDKFI) as an in vitro inhibitor of the Spike-ACE2 interaction with an IC<sub>50</sub> of 2.08 ± 0.38μM. Overall, BP19 adds to the arsenal of Spike-ACE2 inhibitors, and this study highlights the utility of systematic peptide arrays as a platform for the development of coronavirus protein inhibitors.\n",
      "\n",
      "------------------------------\n",
      "pmid:  36279947\n",
      "title:  Progress in cardiovascular diseases\n",
      "data:  {'Year': '2022', 'Month': 'Oct', 'Day': '21'}\n",
      "abstract:  Since the beginning of the COVID-19 (Coronavirus Disease of 2019) pandemic, myocarditis has received much attention and controversy as one of the more worrisome cardiovascular complications. After the availability of highly effective COVID-19 mRNA vaccines in late 2020, myocarditis was also appreciated as an important vaccine-related adverse event. Though the overall frequency of clinically evident viral myocarditis is rare in the general population, young males show a higher predilection for COVID vaccine-induced myocarditis. The severity of COVID-19 viral myocarditis is variable, ranging from very mild to severe, while vaccine-induced myocarditis is usually mild, and rarely a severe or fatal disease. The diagnosis of either COVID-19 or vaccine-induced myocarditis is based on typical clinical features, laboratory investigations, and imaging, preferably with cardiac magnetic resonance. The management of COVID-19 myocarditis is supportive care for mild or moderate disease. For the rare patient who develops severe disease, advanced heart failure therapies such as mechanical circulatory support devices may have to be employed and can be lifesaving. Avoidance of strenuous exercise during the bout of myocarditis and its recovery phase is important. Despite the small but finite risk of vaccine-induced myocarditis, the benefits of protection against COVID-19 disease and its attendant complications far outweigh the risks.\n",
      "\n",
      "------------------------------\n",
      "pmid:  36279914\n",
      "title:  Environmental research\n",
      "data:  {'Year': '2022', 'Month': 'Oct', 'Day': '21'}\n",
      "abstract:  We evaluated the deposition of droplets and droplet nuclei-generated by simulated coughing and talking from three points in a bus-on the driver's face and on surfaces around the driver (e.g., the steering wheel), based on whether countermeasures were taken, and assuming that an infected passenger was talking to the driver. When a shield, such as acrylic boards or polyvinyl chloride (PVC) sheets, was used as the countermeasure, the deposition of artificial droplets (>4 μm), emitted from beside or behind the driver, on his eyes, mouth, and cheeks reduced by two to three orders of magnitude or more. Deposition on the surfaces around the driver was also reduced following the use of shields. For artificial droplet nuclei (1.3 μm of polystyrene latex (PSL)) emitted from atomizers beside the driver, the operation of the ventilation fan (VF) and air conditioner (AC), and defroster (DEF) greatly reduced the driver's exposure, while the use of the shield did not. The infection risk of the driver was estimated through exposure to the virus via transfer to the mucosa via hands or surface-to-finger, direct adhesion on the mucosa, and direct inhalation of droplets and droplet nuclei. This is under the assumption that the droplets and droplet nuclei measured in this study are 40% the diameter of those after immediately leaving the mouth of the infected person and are constant regardless of particle size. When using the shield, total infection risk via droplet, airborne, and contact transmission was decreased by 75.0-99.8%. When the shield was not installed, the infection risk decreased by 9.74-48.7% with the operation of the VF, AC, and/or DEF.\n",
      "\n",
      "------------------------------\n",
      "pmid:  36279887\n",
      "title:  Climacteric : the journal of the International Menopause Society\n",
      "data:  {'Year': '2022', 'Month': 'Oct', 'Day': '24'}\n",
      "abstract:  This study aimed to explore women's and clinician's experiences and acceptability of telehealth use within a specialized multidisciplinary menopause service during the COVID-19 pandemic.\n",
      "\n",
      "------------------------------\n",
      "pmid:  36279861\n",
      "title:  Deutsche medizinische Wochenschrift (1946)\n",
      "data:  {'Year': '2022', 'Month': 'Oct'}\n",
      "abstract:   In the research network of German university palliative care centers (PallPan), as part of Network University Medicine (NUM), recommendations for action were developed in regard to the care provided for seriously ill and dying patients during a pandemic. For this purpose, the experiences and needs of hospital staff working closely with patients outside of specialized palliative care units during the first wave of the COVID-19 pandemic were also examined.\n",
      "\n",
      "------------------------------\n",
      "pmid:  36279853\n",
      "title:  International archives of allergy and immunology\n",
      "data:  {'Year': '2022', 'Month': 'Oct', 'Day': '24'}\n",
      "abstract:  The effect of the COVID-19 pandemic on allergic diseases is not certain, as people's living habits and the environment have been affected by the pandemic. The present study described the influence of the COVID-19 pandemic on the allergen sensitization rate in patients with allergic diseases in central China. The results provide reliable epidemiological data for the prevention and control of allergic diseases during the COVID-19 epidemic.\n",
      "\n",
      "------------------------------\n",
      "pmid:  36279793\n",
      "title:  Social science & medicine (1982)\n",
      "data:  {'Year': '2022', 'Month': 'Oct', 'Day': '13'}\n",
      "abstract:  The COVID-19 outbreak early 2020 was followed by an unprecedented package of measures. The relative calmness of the pandemic early 2022 provides a momentum to prepare for various scenarios.\n",
      "\n",
      "------------------------------\n",
      "pmid:  36279757\n",
      "title:  Health & place\n",
      "data:  {'Year': '2022', 'Month': 'Oct', 'Day': '18'}\n",
      "abstract:  This study explored the experiences of individuals who reported being negatively affected by Australia's international border closure during the COVID-19 pandemic. Qualitative data from 1930 adults who responded to a cross-sectional online survey exploring the mental health and wellbeing of individuals affected by border closure were analysed using theoretical thematic analysis, drawing on understandings of the relationship between place and wellbeing. Four themes were identified: 'Disconnection from family and social connections', 'Disconnection from a sense of home and belonging', 'Disconnection and sense of self', and 'A desire for reconnection'. Results provide a rich illustration of the relationship between disconnection from place and wellbeing during COVID-19 and highlight the need to support those affected and consider these adverse effects in future public health planning.\n",
      "\n",
      "------------------------------\n",
      "pmid:  36279727\n",
      "title:  Marine pollution bulletin\n",
      "data:  {'Year': '2022', 'Month': 'Oct', 'Day': '20'}\n",
      "abstract:  The restrictions related to the COVID-19 pandemic have led to a global hiatus in anthropogenic activities; several scientists have utilized this unique opportunity to assess the human impact on biological systems. In this study, the study describes for a period of five years (2018-2022) how the faunal community have been affected by human disturbances, as well as the effect of the \"anthropause\" period driven by the COVID-19 lockdown. The results confirmed human disturbances on faunal communities related to coastal urbanization. It was found that the \"anthropause\" period showed the highest values of abundance and biomass, hence the \"COVID-19 lockdown\" allowed recovery of faunal communities. The findings highlight the impact of human disturbances and that the community showed resilience. Overall, the authorities must perform restrictive measures aiming to mitigate the impact of anthropogenic activities in the study area including the banning of off-road and recreational vehicles, carrying out efficient cleaning and grooming operations, monitoring the severe harvesting of edible species, as well as penalizing the disposal of anthropogenic waste and sewage discharge from the touristic facilities. Likewise, management actions such as the temporal beach closures and the regular surveillance could be advantageous to provide a more sustainable exploitation of sandy beaches.\n",
      "\n",
      "------------------------------\n",
      "pmid:  36279696\n",
      "title:  Journal of clinical virology : the official publication of the Pan American Society for Clinical Virology\n",
      "data:  {'Year': '2022', 'Month': 'Oct', 'Day': '17'}\n",
      "abstract:  Detection of seroconversion after SARS-CoV-2-infection or vaccination is relevant to discover subclinical cases and recognize patients with a possible immunity.\n",
      "\n",
      "------------------------------\n",
      "pmid:  36279695\n",
      "title:  Journal of clinical virology : the official publication of the Pan American Society for Clinical Virology\n",
      "data:  {'Year': '2022', 'Month': 'Oct', 'Day': '18'}\n",
      "abstract:  The NVX-CoV2373-vaccine has recently been licensed, although knowledge on vaccine-induced humoral and cellular immunity towards the parental strain and variants of concern (VOCs) in comparison to mRNA-regimens is limited.\n",
      "\n",
      "------------------------------\n",
      "pmid:  36279686\n",
      "title:  Journal of infection and public health\n",
      "data:  {'Year': '2022', 'Month': 'Oct', 'Day': '14'}\n",
      "abstract:  As of 25th July, 2022, global Disease burden of 575,430,244 confirmed cases and over 6,403,511 deaths have been attributed to coronavirus disease 2019 (COVID-19). Co-infections/secondary infections continue to plague patients around the world as result of the co-morbidities like diabetes mellitus, biochemical changes caused by Severe Acute Respiratory Syndrome Coronavirus-2 (SARS-CoV-2) especially significant elevation in free iron levels, immune suppression caused by SARS-CoV-2, and indiscriminate use of systemic corticosteroids for the treatment of severe COVID-19 disease. In such circumstances, opportunistic fungal infections pose significant challenge for COVID-19 disease therapy in patients with other co-morbidities. Although COVID-19-associated Mucormycosis (CAM) has been widely recognized, currently extensive research is being conducted on mucormycosis. It has been widely agreed that patients undergoing corticosteroid therapy are highly susceptible for CAM, henceforth high index of screening and intensive care and management is need of an hour in order to have favorable outcomes in these patients. Diagnosis in such cases is often delayed and eventually the disease progresses quickly which poses added burden to clinician and increases patient load in critical care units of hospitals. A vast perusal of literature indicated that patients with diabetes mellitus and those with other co-morbidities might be highly vulnerable to develop mucormycosis. In the present work, the case series of three patients presented at Chest Disease Hospital Srinagar, Jammu and Kashmir infected with CAM has been described with their epidemiological data in supplementary section. All these cases were found to be affected with co-morbidity of Diabetes Mellitus (DM) and were under corticosteroid therapy. Furthermore, given the significant death rate linked with mucormycosis and the growing understanding of the diseases significance, systematic review of the literature on CAM has been discussed and we have attempted to discuss emerging CAM and related aspects of the disease.\n",
      "\n",
      "------------------------------\n",
      "pmid:  36279685\n",
      "title:  Immunology letters\n",
      "data:  {'Year': '2022', 'Month': 'Oct', 'Day': '21'}\n",
      "abstract:  Neutralizing antibodies (NAbs) can be indicators of collective immunity, vaccine efficacy, and the longevity of the humoral response. This study aimed to compare reactogenicity and NAbs generated by three different COVID-19 vaccine platforms in individuals with and without prior COVID-19. 336 individuals vaccinated (112 with CoronaVac [inactivated virus], 112 with BNT162b2 [messenger RNA], and 112 with Ad5-nCoV [non-replicating viral vector]) were included. NAbs were quantified with the cPass SARS-CoV-2 kit. Individuals immunized with the Ad5-nCoV showed higher reactogenicity than those immunized with the other vaccines (p < 0.001). The BTN162b2 vaccine-induced NAbs with higher inhibition capacity than the other platforms in the first dose. In individuals without prior COVID-19, the Ad5-nCoV vaccine generated lower NAbs against SARS-CoV-2 than those induced by two doses of the BTN162b2 (Ad5-nCoV 72.10 [55.6-93.4] vs. BTN162b2 98.41 [98.16-98.56], p < 0.0001). One individual did not generate NAbs (0.89%) after a complete immunization with CoronaVac; in BTN162b2, all generated these antibodies, and in the Ad5-nCoV group, four individuals (3.57%) did not generate NAbs. Comorbidities, gender, age, and reactogenicity did not significantly influence the generation of NAbs (p > 0.05); however, a history of COVID-19 before vaccination was associated with antibodies with greater neutralizing capacity after the first dose (p < 0.01). In conclusion, the mRNA vaccine (BTN162b2) had a remarkable better ability to produce NAbs and lower reactogenicity than the other platforms, whereas the Ad5-nCov vaccine induced the lowest NAbs response in individuals without a history of COVID-19; therefore, we suggest that a booster could benefit these individuals.\n",
      "\n",
      "------------------------------\n",
      "pmid:  36279582\n",
      "title:  Annals of plastic surgery\n",
      "data:  {'Year': '2022', 'Month': 'Nov', 'Day': '01'}\n",
      "abstract:  The 2020-2021 interview cycle for integrated plastic surgery applicants was the first to be held virtually because of the COVID-19 pandemic. Here, we detail the largest study on integrated plastic surgery applicant perceptions after the virtual interview cycle.\n",
      "\n",
      "------------------------------\n",
      "pmid:  36279566\n",
      "title:  Revista da Escola de Enfermagem da U S P\n",
      "data:  {'Year': '2022'}\n",
      "abstract:  This study aimed to determine the breastfeeding self-efficacy levels of mothers during the pandemic period, to compare them according to various characteristics, and to examine the relationship between the fear of COVID-19 and breastfeeding self-efficacy.\n",
      "\n",
      "------------------------------\n",
      "pmid:  36279552\n",
      "title:  The Journal of nursing education\n",
      "data:  {'Year': '2022', 'Month': 'Oct', 'Day': '27'}\n",
      "abstract:  Five telemedicine simulations were created during the coronavirus disease 2019 (COVID-19) pandemic to elucidate implicit biases and enhance awareness of social determinants of health among nursing students. Social determinants affect overall health, functioning, and quality-of-life outcomes and risks. Implicit biases are related to patient-provider interactions, treatment decisions and adherence, and ultimately patient health outcomes.\n",
      "\n",
      "------------------------------\n",
      "pmid:  36279531\n",
      "title:  Journal of visualized experiments : JoVE\n",
      "data:  {'Year': '2022', 'Month': 'Sep', 'Day': '28'}\n",
      "abstract:  Increasing the diversity of students choosing careers in science, technology, engineering, and mathematics (STEM) fields is an area of intense focus across the USA, especially in kindergarten through 12th grade (K-12)-focused pipeline programs in medical schools. A diverse STEM workforce contributes to better problem-solving and equity in health care. Two of the many major barriers for rural students are the lack of sufficient STEM role models and limited access to technology in the classroom. Medical schools often serve as an important resource for students in the local community who can easily gain access to STEM professionals and modern technology through on-campus, sponsored events and STEM outreach to the local classrooms. However, underrepresented minority (URM) students often live in socioeconomically distressed parts of rural states such as Arkansas, where access to STEM role models and technology is limited. Virtual learning in the COVID-19 era has proven that the imaging technology resources of a medical school can be harnessed to reach a wider audience, especially students living in rural areas far from the medical school campus.\n",
      "\n",
      "------------------------------\n",
      "pmid:  36279518\n",
      "title:  Acta medica portuguesa\n",
      "data:  {'Year': '2022', 'Month': 'Jun', 'Day': '01'}\n",
      "abstract:  Assessment of SARS-CoV-2 seroprevalence may detect the real spread of the virus because antibody data can provide a long-lasting measure of infection. Existing serological studies in Portugal have tested new serology methods, albeit with small sample sizes and a lack the focus on geographical regions with a high rate of infection cases. The aim of this study was to estimate the serological prevalence of SARS-CoV-2 in Vila Nova de Gaia, the most populous municipality in the north of Portugal and one of those most affected during the first pandemic wave.\n",
      "\n",
      "------------------------------\n",
      "pmid:  36279491\n",
      "title:  Clinical nurse specialist CNS\n",
      "data:  {'MedlineDate': '2022 Nov-Dec 01'}\n",
      "abstract:  To gain insights in how women use technology to address health information needs during the prenatal and postpartum time frame.\n",
      "\n",
      "------------------------------\n",
      "pmid:  36279466\n",
      "title:  Proceedings of the National Academy of Sciences of the United States of America\n",
      "data:  {'Year': '2022', 'Month': 'Nov'}\n",
      "abstract:  The pathophysiological mechanisms underlying the constellation of symptoms that characterize COVID-19 are only incompletely understood. In an effort to fill these gaps, a \"nicotinic hypothesis,\" which posits that nicotinic acetylcholine receptors (AChRs) act as additional severe acute respiratory syndrome coronavirus 2 (SARS-CoV-2) receptors, has recently been put forth. A key feature of the proposal (with potential clinical ramifications) is the suggested competition between the virus' spike protein and small-molecule cholinergic ligands for the receptor's orthosteric binding sites. This notion is reminiscent of the well-established role of the muscle AChR during rabies virus infection. To address this hypothesis directly, we performed equilibrium-type ligand-binding competition assays using the homomeric human α7-AChR (expressed on intact cells) as the receptor, and radio-labeled α-bungarotoxin (α-BgTx) as the orthosteric-site competing ligand. We tested different SARS-CoV-2 spike protein peptides, the S1 domain, and the entire S1-S2 ectodomain, and found that none of them appreciably outcompete [<sup>125</sup>I]-α-BgTx in a specific manner. Furthermore, patch-clamp recordings showed no clear effect of the S1 domain on α7-AChR-mediated currents. We conclude that the binding of the SARS-CoV-2 spike protein to the human α7-AChR's orthosteric sites-and thus, its competition with ACh, choline, or nicotine-is unlikely to be a relevant aspect of this complex disease.\n",
      "\n",
      "------------------------------\n",
      "pmid:  36279353\n",
      "title:  IEEE/ACM transactions on computational biology and bioinformatics\n",
      "data:  {'Year': '2022', 'Month': 'Oct', 'Day': '24'}\n",
      "abstract:  Coronavirus disease-2019 (COVID-19) as a new pneumonia which is extremely infectious, the classification of this coronavirus is essential to effectively control the development of the epidemic. Pathological changes in the chest computed tomography (CT) scans are often used as one of the diagnostic criteria of COVID-19. Meanwhile, deep learning-based transfer learning is currently an effective strategy for computer-aided diagnosis (CAD). To further improve the performance of deep transfer learning model used for COVID-19 classification with CT images, in this article, we propose a hybrid model combined with a semi-supervised domain adaption model and extreme learning machine (ELM) classifier, and the application of a novel multikernel correntropy induced loss function in transfer learning is also presented. The proposed model is evaluated on open-source datasets. The experimental results are compared to some baseline models to verify the effectiveness, while adopting accuracy, precision, recall, F<sub>1</sub> score and area under curve (AUC) as the evaluation metrics. Experimental results show that the proposed method improves the performance of original model and is more suitable for CT images analysis.\n",
      "\n",
      "------------------------------\n",
      "pmid:  36279316\n",
      "title:  Health care management review\n",
      "data:  {'Year': '2022', 'Month': 'Oct', 'Day': '21'}\n",
      "abstract:  The COVID-19 pandemic has been an unusually comprehensive crisis that has taken a toll on people in their roles both at work and at home, giving rise to a new normal.\n",
      "\n",
      "------------------------------\n",
      "pmid:  36279292\n",
      "title:  PloS one\n",
      "data:  {'Year': '2022'}\n",
      "abstract:  This paper proposes a compartment model (SVEIHRM model) based on a system of ordinary differential equations to simulate the pandemic of severe acute respiratory syndrome coronavirus 2 (SARS-CoV-2).Emergence of mutant viruses gave rise to multiple peaks in the number of confirmed cases. Vaccine developers and WHO suggest individuals to receive multiple vaccinations (the primary and the secondary vaccinations and booster shots) to mitigate transmission of COVID-19. Taking this into account, we include compartments for multiple vaccinations and mutant viruses of COVID-19 in the model. In particular, our model considers breakthrough infection according to the antibody formation rate following multiple vaccinations. We obtain the effective reproduction numbers of the original virus, the Delta, and the Omicron variants by fitting this model to data in Korea. Additionally, we provide various simulations adjusting the daily vaccination rate and the timing of vaccination to investigate the effects of these two vaccine-related measures on the number of infected individuals. We also show that starting vaccinations early is the key to reduce the number of infected individuals. Delaying the start date requires increasing substantially the rate of vaccination to achieve similar target results. In the sensitivity analysis on the vaccination rate of Korean data, it is shown that a 10% increase (decrease) in vaccination rates can reduce (increase) the number of confirmed cases by 35.22% (82.82%), respectively.\n",
      "\n",
      "------------------------------\n",
      "pmid:  36279288\n",
      "title:  PLoS computational biology\n",
      "data:  {'Year': '2022', 'Month': 'Oct', 'Day': '24'}\n",
      "abstract:  Estimating the burden of COVID-19 in India is difficult because the extent to which cases and deaths have been undercounted is hard to assess. Here, we use a 9-component, age-stratified, contact-structured epidemiological compartmental model, which we call the INDSCI-SIM model, to analyse the first wave of COVID-19 spread in India. We use INDSCI-SIM, together with Bayesian methods, to obtain optimal fits to daily reported cases and deaths across the span of the first wave of the Indian pandemic, over the period Jan 30, 2020 to Feb 15, 2021. We account for lock-downs and other non-pharmaceutical interventions (NPIs), an overall increase in testing as a function of time, the under-counting of cases and deaths, and a range of age-specific infection-fatality ratios. We first use our model to describe data from all individual districts of the state of Karnataka, benchmarking our calculations using data from serological surveys. We then extend this approach to aggregated data for Karnataka state. We model the progress of the pandemic across the cities of Delhi, Mumbai, Pune, Bengaluru and Chennai, and then for India as a whole. We estimate that deaths were undercounted by a factor between 2 and 5 across the span of the first wave, converging on 2.2 as a representative multiplier that accounts for the urban-rural gradient. We also estimate an overall under-counting of cases by a factor of between 20 and 25 towards the end of the first wave. Our estimates of the infection fatality ratio (IFR) are in the range 0.05-0.15, broadly consistent with previous estimates but substantially lower than values that have been estimated for other LMIC countries. We find that approximately 35% of India had been infected overall by the end of the first wave, results broadly consistent with those from serosurveys. These results contribute to the understanding of the long-term trajectory of COVID-19 in India.\n",
      "\n",
      "------------------------------\n",
      "pmid:  36279287\n",
      "title:  PLoS computational biology\n",
      "data:  {'Year': '2022', 'Month': 'Oct', 'Day': '24'}\n",
      "abstract:  The rapid spread of SARS-CoV-2 has placed a significant burden on public health systems to provide swift and accurate diagnostic testing highlighting the critical need for innovative testing approaches for future pandemics. In this study, we present a novel sample pooling procedure based on compressed sensing theory to accurately identify virally infected patients at high prevalence rates utilizing an innovative viral RNA extraction process to minimize sample dilution. At prevalence rates ranging from 0-14.3%, the number of tests required to identify the infection status of all patients was reduced by 69.26% as compared to conventional testing in primary human SARS-CoV-2 nasopharyngeal swabs and a coronavirus model system. Our method provided quantification of individual sample viral load within a pool as well as a binary positive-negative result. Additionally, our modified pooling and RNA extraction process minimized sample dilution which remained constant as pool sizes increased. Compressed sensing can be adapted to a wide variety of diagnostic testing applications to increase throughput for routine laboratory testing as well as a means to increase testing capacity to combat future pandemics.\n",
      "\n"
     ]
    }
   ],
   "source": [
    "from Bio import Entrez\n",
    "Entrez.email = \"esemoon@gmail.com\"\n",
    "\n",
    "handle = Entrez.esearch(db = \"pubmed\", term = \"covid19\", retmode = \"xml\", retmax = 50)\n",
    "result = Entrez.read(handle)\n",
    "\n",
    "for pmid in result['IdList']:\n",
    "    try:\n",
    "        pubmed_entry = Entrez.efetch(db = \"pubmed\", id = pmid, retmode = 'xml')\n",
    "        read_result = Entrez.read(pubmed_entry)\n",
    "\n",
    "        article = read_result['PubmedArticle'][0]['MedlineCitation']['Article']\n",
    "\n",
    "        if \"Abstract\" in article:\n",
    "            print(\"-\"*30)\n",
    "            print(\"pmid: \", pmid)\n",
    "            print(\"title: \", article[\"Journal\"][\"Title\"])\n",
    "            print(\"data: \", article[\"Journal\"][\"JournalIssue\"][\"PubDate\"])\n",
    "            print(\"abstract: \", article[\"Abstract\"][\"AbstractText\"][0])\n",
    "            print(\"\")\n",
    "    except:\n",
    "        pass"
   ]
  }
 ],
 "metadata": {
  "kernelspec": {
   "display_name": "Python 3.8.13 ('moon')",
   "language": "python",
   "name": "python3"
  },
  "language_info": {
   "name": "python",
   "version": "3.8.13"
  },
  "orig_nbformat": 4,
  "vscode": {
   "interpreter": {
    "hash": "def3f5d60d1a3661de59ddfe0ff33162f3c2c2803258b3704025b7c7208921bb"
   }
  }
 },
 "nbformat": 4,
 "nbformat_minor": 2
}
